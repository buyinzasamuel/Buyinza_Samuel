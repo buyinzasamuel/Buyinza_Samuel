{
 "cells": [
  {
   "cell_type": "code",
   "execution_count": null,
   "id": "97ff84a2",
   "metadata": {
    "vscode": {
     "languageId": "plaintext"
    }
   },
   "outputs": [],
   "source": [
    "print(\"i love data science\")"
   ]
  }
 ],
 "metadata": {
  "language_info": {
   "name": "python"
  }
 },
 "nbformat": 4,
 "nbformat_minor": 5
}
